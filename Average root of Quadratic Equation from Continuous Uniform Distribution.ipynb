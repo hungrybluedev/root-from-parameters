{
 "cells": [
  {
   "cell_type": "code",
   "execution_count": 1,
   "metadata": {},
   "outputs": [],
   "source": [
    "import math\n",
    "import pandas as pd\n",
    "import random\n",
    "import seaborn as sns\n",
    "import statistics as stats\n",
    "import warnings"
   ]
  },
  {
   "cell_type": "code",
   "execution_count": 2,
   "metadata": {},
   "outputs": [],
   "source": [
    "## Uncomment and run this cell to reset the state and get reproducible results\n",
    "# random.seed(a=\"seed dated: 2020-07-23\")"
   ]
  },
  {
   "cell_type": "code",
   "execution_count": 3,
   "metadata": {},
   "outputs": [],
   "source": [
    "# Code for configuration of global parameters\n",
    "# pd.options.display.max_columns = None\n",
    "warnings.simplefilter(action='ignore', category=FutureWarning)"
   ]
  },
  {
   "cell_type": "code",
   "execution_count": 4,
   "metadata": {},
   "outputs": [],
   "source": [
    "# The number of trials for each value of k\n",
    "trials = 250"
   ]
  },
  {
   "cell_type": "code",
   "execution_count": 5,
   "metadata": {},
   "outputs": [],
   "source": [
    "def min_max(a, b, c):\n",
    "    \"\"\"\n",
    "    Returns the maximum possible and the minimum possible root from\n",
    "    the given parameters. It returns None if no real roots exist.\n",
    "    \"\"\"\n",
    "    # We must have a quadratic equation\n",
    "    if a == 0:\n",
    "        return None\n",
    "    \n",
    "    dsquared = b * b - 4 * a * c\n",
    "    \n",
    "    # We only consider real roots\n",
    "    if dsquared < 0:\n",
    "        return None\n",
    "    \n",
    "    d = math.sqrt(dsquared)\n",
    "    twoa = 2 * a\n",
    "    minroot = (-b - d) / twoa\n",
    "    maxroot = (-b + d) / twoa\n",
    "    return (minroot, maxroot)"
   ]
  },
  {
   "cell_type": "code",
   "execution_count": 6,
   "metadata": {},
   "outputs": [],
   "source": [
    "def get_random_value(a):\n",
    "    \"\"\"\n",
    "    Returns a continuous uniformly distributed real in the range [0, a)\n",
    "    \"\"\"\n",
    "    return random.uniform(0, a)"
   ]
  },
  {
   "cell_type": "code",
   "execution_count": 7,
   "metadata": {},
   "outputs": [],
   "source": [
    "def get_row_of_data_for(k):\n",
    "    \"\"\"\n",
    "    Returns a row of data by performing an experiment for the given\n",
    "    value of k. The values returned are:\n",
    "    1. k\n",
    "    2. Mean of the maximum roots\n",
    "    3. Mean of the minimum roots\n",
    "    4. Std dev of the maximum roots\n",
    "    5. Std dev of the minimum roots\n",
    "    \"\"\"\n",
    "    max_roots = []\n",
    "    min_roots = []\n",
    "\n",
    "    for current_trial in range(trials):\n",
    "        # We loop until we get valid roots\n",
    "        roots = None\n",
    "        while roots is None:\n",
    "            a = get_random_value(k)\n",
    "            b = get_random_value(k)\n",
    "            c = get_random_value(k)\n",
    "\n",
    "            roots = min_max(a, b, c)\n",
    "\n",
    "        # unpack the data\n",
    "        minroot, maxroot = roots\n",
    "        max_roots.append(maxroot)\n",
    "        min_roots.append(minroot)\n",
    "    \n",
    "    return [\n",
    "        k,\n",
    "        stats.mean(max_roots), stats.mean(min_roots),\n",
    "        stats.stdev(max_roots), stats.stdev(min_roots)\n",
    "    ]"
   ]
  },
  {
   "cell_type": "code",
   "execution_count": 8,
   "metadata": {},
   "outputs": [],
   "source": [
    "data = [get_row_of_data_for(k) for k in range(10, 2001, 100)]"
   ]
  },
  {
   "cell_type": "code",
   "execution_count": 9,
   "metadata": {},
   "outputs": [
    {
     "data": {
      "text/html": [
       "<div>\n",
       "<style scoped>\n",
       "    .dataframe tbody tr th:only-of-type {\n",
       "        vertical-align: middle;\n",
       "    }\n",
       "\n",
       "    .dataframe tbody tr th {\n",
       "        vertical-align: top;\n",
       "    }\n",
       "\n",
       "    .dataframe thead th {\n",
       "        text-align: right;\n",
       "    }\n",
       "</style>\n",
       "<table border=\"1\" class=\"dataframe\">\n",
       "  <thead>\n",
       "    <tr style=\"text-align: right;\">\n",
       "      <th></th>\n",
       "      <th>k</th>\n",
       "      <th>Mean of the maximum roots</th>\n",
       "      <th>Mean of the minimum roots</th>\n",
       "      <th>Std dev of the maximum roots</th>\n",
       "      <th>Std dev of the minimum roots</th>\n",
       "    </tr>\n",
       "  </thead>\n",
       "  <tbody>\n",
       "    <tr>\n",
       "      <th>0</th>\n",
       "      <td>10</td>\n",
       "      <td>-0.559118</td>\n",
       "      <td>-11.578743</td>\n",
       "      <td>0.598452</td>\n",
       "      <td>37.523199</td>\n",
       "    </tr>\n",
       "    <tr>\n",
       "      <th>1</th>\n",
       "      <td>110</td>\n",
       "      <td>-0.510769</td>\n",
       "      <td>-8.850206</td>\n",
       "      <td>0.563651</td>\n",
       "      <td>25.431302</td>\n",
       "    </tr>\n",
       "    <tr>\n",
       "      <th>2</th>\n",
       "      <td>210</td>\n",
       "      <td>-0.546192</td>\n",
       "      <td>-10.340078</td>\n",
       "      <td>0.815833</td>\n",
       "      <td>30.248449</td>\n",
       "    </tr>\n",
       "    <tr>\n",
       "      <th>3</th>\n",
       "      <td>310</td>\n",
       "      <td>-0.555318</td>\n",
       "      <td>-26.603140</td>\n",
       "      <td>0.535975</td>\n",
       "      <td>254.764248</td>\n",
       "    </tr>\n",
       "    <tr>\n",
       "      <th>4</th>\n",
       "      <td>410</td>\n",
       "      <td>-0.527387</td>\n",
       "      <td>-14.984289</td>\n",
       "      <td>0.642334</td>\n",
       "      <td>98.188910</td>\n",
       "    </tr>\n",
       "    <tr>\n",
       "      <th>5</th>\n",
       "      <td>510</td>\n",
       "      <td>-0.479288</td>\n",
       "      <td>-6.216691</td>\n",
       "      <td>0.480572</td>\n",
       "      <td>10.640395</td>\n",
       "    </tr>\n",
       "    <tr>\n",
       "      <th>6</th>\n",
       "      <td>610</td>\n",
       "      <td>-0.560751</td>\n",
       "      <td>-14.285657</td>\n",
       "      <td>0.589357</td>\n",
       "      <td>71.010218</td>\n",
       "    </tr>\n",
       "    <tr>\n",
       "      <th>7</th>\n",
       "      <td>710</td>\n",
       "      <td>-0.623303</td>\n",
       "      <td>-19.760958</td>\n",
       "      <td>0.590667</td>\n",
       "      <td>118.970191</td>\n",
       "    </tr>\n",
       "    <tr>\n",
       "      <th>8</th>\n",
       "      <td>810</td>\n",
       "      <td>-0.524339</td>\n",
       "      <td>-35.456998</td>\n",
       "      <td>0.589629</td>\n",
       "      <td>265.758697</td>\n",
       "    </tr>\n",
       "    <tr>\n",
       "      <th>9</th>\n",
       "      <td>910</td>\n",
       "      <td>-0.498068</td>\n",
       "      <td>-11.518852</td>\n",
       "      <td>0.528753</td>\n",
       "      <td>35.340426</td>\n",
       "    </tr>\n",
       "    <tr>\n",
       "      <th>10</th>\n",
       "      <td>1010</td>\n",
       "      <td>-0.538705</td>\n",
       "      <td>-12.640879</td>\n",
       "      <td>0.532709</td>\n",
       "      <td>47.599718</td>\n",
       "    </tr>\n",
       "    <tr>\n",
       "      <th>11</th>\n",
       "      <td>1110</td>\n",
       "      <td>-0.632317</td>\n",
       "      <td>-10.337975</td>\n",
       "      <td>0.746283</td>\n",
       "      <td>26.019739</td>\n",
       "    </tr>\n",
       "    <tr>\n",
       "      <th>12</th>\n",
       "      <td>1210</td>\n",
       "      <td>-0.595593</td>\n",
       "      <td>-9.931977</td>\n",
       "      <td>0.810891</td>\n",
       "      <td>27.588484</td>\n",
       "    </tr>\n",
       "    <tr>\n",
       "      <th>13</th>\n",
       "      <td>1310</td>\n",
       "      <td>-0.563123</td>\n",
       "      <td>-48.259219</td>\n",
       "      <td>0.599590</td>\n",
       "      <td>635.800280</td>\n",
       "    </tr>\n",
       "    <tr>\n",
       "      <th>14</th>\n",
       "      <td>1410</td>\n",
       "      <td>-0.546801</td>\n",
       "      <td>-8.742367</td>\n",
       "      <td>0.596867</td>\n",
       "      <td>36.306888</td>\n",
       "    </tr>\n",
       "    <tr>\n",
       "      <th>15</th>\n",
       "      <td>1510</td>\n",
       "      <td>-0.553648</td>\n",
       "      <td>-22.559435</td>\n",
       "      <td>0.577381</td>\n",
       "      <td>144.976449</td>\n",
       "    </tr>\n",
       "    <tr>\n",
       "      <th>16</th>\n",
       "      <td>1610</td>\n",
       "      <td>-0.509991</td>\n",
       "      <td>-12.263140</td>\n",
       "      <td>0.634454</td>\n",
       "      <td>44.964539</td>\n",
       "    </tr>\n",
       "    <tr>\n",
       "      <th>17</th>\n",
       "      <td>1710</td>\n",
       "      <td>-0.536054</td>\n",
       "      <td>-51.527298</td>\n",
       "      <td>0.564932</td>\n",
       "      <td>434.654404</td>\n",
       "    </tr>\n",
       "    <tr>\n",
       "      <th>18</th>\n",
       "      <td>1810</td>\n",
       "      <td>-0.568046</td>\n",
       "      <td>-20.231663</td>\n",
       "      <td>0.649326</td>\n",
       "      <td>161.459131</td>\n",
       "    </tr>\n",
       "    <tr>\n",
       "      <th>19</th>\n",
       "      <td>1910</td>\n",
       "      <td>-0.624946</td>\n",
       "      <td>-13.620516</td>\n",
       "      <td>0.909520</td>\n",
       "      <td>68.851397</td>\n",
       "    </tr>\n",
       "  </tbody>\n",
       "</table>\n",
       "</div>"
      ],
      "text/plain": [
       "       k  Mean of the maximum roots  Mean of the minimum roots  \\\n",
       "0     10                  -0.559118                 -11.578743   \n",
       "1    110                  -0.510769                  -8.850206   \n",
       "2    210                  -0.546192                 -10.340078   \n",
       "3    310                  -0.555318                 -26.603140   \n",
       "4    410                  -0.527387                 -14.984289   \n",
       "5    510                  -0.479288                  -6.216691   \n",
       "6    610                  -0.560751                 -14.285657   \n",
       "7    710                  -0.623303                 -19.760958   \n",
       "8    810                  -0.524339                 -35.456998   \n",
       "9    910                  -0.498068                 -11.518852   \n",
       "10  1010                  -0.538705                 -12.640879   \n",
       "11  1110                  -0.632317                 -10.337975   \n",
       "12  1210                  -0.595593                  -9.931977   \n",
       "13  1310                  -0.563123                 -48.259219   \n",
       "14  1410                  -0.546801                  -8.742367   \n",
       "15  1510                  -0.553648                 -22.559435   \n",
       "16  1610                  -0.509991                 -12.263140   \n",
       "17  1710                  -0.536054                 -51.527298   \n",
       "18  1810                  -0.568046                 -20.231663   \n",
       "19  1910                  -0.624946                 -13.620516   \n",
       "\n",
       "    Std dev of the maximum roots  Std dev of the minimum roots  \n",
       "0                       0.598452                     37.523199  \n",
       "1                       0.563651                     25.431302  \n",
       "2                       0.815833                     30.248449  \n",
       "3                       0.535975                    254.764248  \n",
       "4                       0.642334                     98.188910  \n",
       "5                       0.480572                     10.640395  \n",
       "6                       0.589357                     71.010218  \n",
       "7                       0.590667                    118.970191  \n",
       "8                       0.589629                    265.758697  \n",
       "9                       0.528753                     35.340426  \n",
       "10                      0.532709                     47.599718  \n",
       "11                      0.746283                     26.019739  \n",
       "12                      0.810891                     27.588484  \n",
       "13                      0.599590                    635.800280  \n",
       "14                      0.596867                     36.306888  \n",
       "15                      0.577381                    144.976449  \n",
       "16                      0.634454                     44.964539  \n",
       "17                      0.564932                    434.654404  \n",
       "18                      0.649326                    161.459131  \n",
       "19                      0.909520                     68.851397  "
      ]
     },
     "execution_count": 9,
     "metadata": {},
     "output_type": "execute_result"
    }
   ],
   "source": [
    "df = pd.DataFrame(\n",
    "    data, columns=[\n",
    "        \"k\",\n",
    "        \"Mean of the maximum roots\",\n",
    "        \"Mean of the minimum roots\",\n",
    "        \"Std dev of the maximum roots\",\n",
    "        \"Std dev of the minimum roots\"\n",
    "    ]\n",
    ")\n",
    "df"
   ]
  },
  {
   "cell_type": "code",
   "execution_count": 10,
   "metadata": {},
   "outputs": [
    {
     "data": {
      "image/png": "[encoded data removed]",
      "text/plain": [
       "<Figure size 360x360 with 1 Axes>"
      ]
     },
     "metadata": {
      "needs_background": "light"
     },
     "output_type": "display_data"
    }
   ],
   "source": [
    "try:\n",
    "    sns.relplot(x=df[\"k\"],y=df[\"Mean of the maximum roots\"],data=df)\n",
    "except:\n",
    "    pass"
   ]
  },
  {
   "cell_type": "code",
   "execution_count": 11,
   "metadata": {},
   "outputs": [
    {
     "data": {
      "image/png": "[encoded data removed]",
      "text/plain": [
       "<Figure size 360x360 with 1 Axes>"
      ]
     },
     "metadata": {
      "needs_background": "light"
     },
     "output_type": "display_data"
    }
   ],
   "source": [
    "try:\n",
    "    sns.relplot(x=df[\"k\"],y=df[\"Mean of the minimum roots\"],data=df)\n",
    "except:\n",
    "    pass"
   ]
  },
  {
   "cell_type": "code",
   "execution_count": 12,
   "metadata": {},
   "outputs": [
    {
     "data": {
      "image/png": "[encoded data removed]",
      "text/plain": [
       "<Figure size 360x360 with 1 Axes>"
      ]
     },
     "metadata": {
      "needs_background": "light"
     },
     "output_type": "display_data"
    }
   ],
   "source": [
    "try:\n",
    "    sns.relplot(x=df[\"k\"],y=df[\"Std dev of the maximum roots\"],data=df)\n",
    "except:\n",
    "    pass"
   ]
  },
  {
   "cell_type": "code",
   "execution_count": 13,
   "metadata": {},
   "outputs": [
    {
     "data": {
      "image/png": "[encoded data removed]",
      "text/plain": [
       "<Figure size 360x360 with 1 Axes>"
      ]
     },
     "metadata": {
      "needs_background": "light"
     },
     "output_type": "display_data"
    }
   ],
   "source": [
    "try:\n",
    "    sns.relplot(x=df[\"k\"],y=df[\"Std dev of the minimum roots\"],data=df)\n",
    "except:\n",
    "    pass"
   ]
  },
  {
   "cell_type": "code",
   "execution_count": null,
   "metadata": {},
   "outputs": [],
   "source": []
  },
  {
   "cell_type": "code",
   "execution_count": null,
   "metadata": {},
   "outputs": [],
   "source": []
  }
 ],
 "metadata": {
  "kernelspec": {
   "display_name": "Python 3",
   "language": "python",
   "name": "python3"
  },
  "language_info": {
   "codemirror_mode": {
    "name": "ipython",
    "version": 3
   },
   "file_extension": ".py",
   "mimetype": "text/x-python",
   "name": "python",
   "nbconvert_exporter": "python",
   "pygments_lexer": "ipython3",
   "version": "3.8.4"
  }
 },
 "nbformat": 4,
 "nbformat_minor": 4
}
