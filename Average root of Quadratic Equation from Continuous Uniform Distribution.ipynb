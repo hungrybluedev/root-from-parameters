{
 "cells": [
  {
   "cell_type": "code",
   "execution_count": 1,
   "metadata": {},
   "outputs": [],
   "source": [
    "import math\n",
    "import pandas as pd\n",
    "import random\n",
    "import seaborn as sns\n",
    "import statistics as stats\n",
    "import warnings"
   ]
  },
  {
   "cell_type": "code",
   "execution_count": 2,
   "metadata": {},
   "outputs": [],
   "source": [
    "## Uncomment and run this cell to reset the state and get reproducible results\n",
    "# random.seed(a=\"seed dated: 2020-07-23\")"
   ]
  },
  {
   "cell_type": "code",
   "execution_count": 3,
   "metadata": {},
   "outputs": [],
   "source": [
    "# Code for configuration of global parameters\n",
    "# pd.options.display.max_columns = None\n",
    "warnings.simplefilter(action='ignore', category=FutureWarning)"
   ]
  },
  {
   "cell_type": "code",
   "execution_count": 4,
   "metadata": {},
   "outputs": [],
   "source": [
    "# The number of trials for each value of k\n",
    "trials = 250"
   ]
  },
  {
   "cell_type": "code",
   "execution_count": 5,
   "metadata": {},
   "outputs": [],
   "source": [
    "def min_max(a, b, c):\n",
    "    \"\"\"\n",
    "    Returns the maximum possible and the minimum possible root from\n",
    "    the given parameters. It returns None if no real roots exist.\n",
    "    \"\"\"\n",
    "    # We must have a quadratic equation\n",
    "    if a == 0:\n",
    "        return None\n",
    "    \n",
    "    dsquared = b * b - 4 * a * c\n",
    "    \n",
    "    # We only consider real roots\n",
    "    if dsquared < 0:\n",
    "        return None\n",
    "    \n",
    "    d = math.sqrt(dsquared)\n",
    "    twoa = 2 * a\n",
    "    minroot = (-b - d) / twoa\n",
    "    maxroot = (-b + d) / twoa\n",
    "    return (minroot, maxroot)"
   ]
  },
  {
   "cell_type": "code",
   "execution_count": 6,
   "metadata": {},
   "outputs": [],
   "source": [
    "def get_random_value(a):\n",
    "    \"\"\"\n",
    "    Returns a continuous uniformly distributed real in the range [0, a)\n",
    "    \"\"\"\n",
    "    return random.uniform(0, a)"
   ]
  },
  {
   "cell_type": "code",
   "execution_count": 7,
   "metadata": {},
   "outputs": [],
   "source": [
    "def get_row_of_data_for(theta):\n",
    "    \"\"\"\n",
    "    Returns a row of data by performing an experiment for the given\n",
    "    value of theta. The values returned are:\n",
    "    1. theta\n",
    "    2. Mean of the maximum roots\n",
    "    3. Mean of the minimum roots\n",
    "    4. Std dev of the maximum roots\n",
    "    5. Std dev of the minimum roots\n",
    "    \"\"\"\n",
    "    max_roots = []\n",
    "    min_roots = []\n",
    "\n",
    "    for current_trial in range(trials):\n",
    "        # We loop until we get valid roots\n",
    "        roots = None\n",
    "        while roots is None:\n",
    "            a = get_random_value(theta)\n",
    "            b = get_random_value(theta)\n",
    "            c = get_random_value(theta)\n",
    "\n",
    "            roots = min_max(a, b, c)\n",
    "\n",
    "        # unpack the data\n",
    "        minroot, maxroot = roots\n",
    "        max_roots.append(maxroot)\n",
    "        min_roots.append(minroot)\n",
    "    \n",
    "    return [\n",
    "        theta,\n",
    "        stats.mean(max_roots), stats.mean(min_roots),\n",
    "        stats.stdev(max_roots), stats.stdev(min_roots)\n",
    "    ]"
   ]
  },
  {
   "cell_type": "code",
   "execution_count": 28,
   "metadata": {},
   "outputs": [],
   "source": [
    "data = [get_row_of_data_for(theta) for theta in range(100, 2001, 100)]"
   ]
  },
  {
   "cell_type": "code",
   "execution_count": 29,
   "metadata": {},
   "outputs": [
    {
     "data": {
      "text/html": [
       "<div>\n",
       "<style scoped>\n",
       "    .dataframe tbody tr th:only-of-type {\n",
       "        vertical-align: middle;\n",
       "    }\n",
       "\n",
       "    .dataframe tbody tr th {\n",
       "        vertical-align: top;\n",
       "    }\n",
       "\n",
       "    .dataframe thead th {\n",
       "        text-align: right;\n",
       "    }\n",
       "</style>\n",
       "<table border=\"1\" class=\"dataframe\">\n",
       "  <thead>\n",
       "    <tr style=\"text-align: right;\">\n",
       "      <th></th>\n",
       "      <th>Theta</th>\n",
       "      <th>Mean of the maximum roots</th>\n",
       "      <th>Mean of the minimum roots</th>\n",
       "      <th>Std dev of the maximum roots</th>\n",
       "      <th>Std dev of the minimum roots</th>\n",
       "    </tr>\n",
       "  </thead>\n",
       "  <tbody>\n",
       "    <tr>\n",
       "      <th>0</th>\n",
       "      <td>100</td>\n",
       "      <td>-0.607296</td>\n",
       "      <td>-22.280716</td>\n",
       "      <td>0.578726</td>\n",
       "      <td>124.788237</td>\n",
       "    </tr>\n",
       "    <tr>\n",
       "      <th>1</th>\n",
       "      <td>200</td>\n",
       "      <td>-0.553903</td>\n",
       "      <td>-24.721649</td>\n",
       "      <td>0.537107</td>\n",
       "      <td>211.099556</td>\n",
       "    </tr>\n",
       "    <tr>\n",
       "      <th>2</th>\n",
       "      <td>300</td>\n",
       "      <td>-0.542707</td>\n",
       "      <td>-9.863309</td>\n",
       "      <td>0.590656</td>\n",
       "      <td>24.716974</td>\n",
       "    </tr>\n",
       "    <tr>\n",
       "      <th>3</th>\n",
       "      <td>400</td>\n",
       "      <td>-0.546407</td>\n",
       "      <td>-11.552074</td>\n",
       "      <td>0.601324</td>\n",
       "      <td>50.587434</td>\n",
       "    </tr>\n",
       "    <tr>\n",
       "      <th>4</th>\n",
       "      <td>500</td>\n",
       "      <td>-0.543700</td>\n",
       "      <td>-26.689664</td>\n",
       "      <td>0.624781</td>\n",
       "      <td>158.854917</td>\n",
       "    </tr>\n",
       "    <tr>\n",
       "      <th>5</th>\n",
       "      <td>600</td>\n",
       "      <td>-0.551984</td>\n",
       "      <td>-7.650567</td>\n",
       "      <td>0.581765</td>\n",
       "      <td>32.178904</td>\n",
       "    </tr>\n",
       "    <tr>\n",
       "      <th>6</th>\n",
       "      <td>700</td>\n",
       "      <td>-0.577472</td>\n",
       "      <td>-7.960499</td>\n",
       "      <td>0.520409</td>\n",
       "      <td>17.319140</td>\n",
       "    </tr>\n",
       "    <tr>\n",
       "      <th>7</th>\n",
       "      <td>800</td>\n",
       "      <td>-0.561054</td>\n",
       "      <td>-11.784779</td>\n",
       "      <td>0.594430</td>\n",
       "      <td>60.016710</td>\n",
       "    </tr>\n",
       "    <tr>\n",
       "      <th>8</th>\n",
       "      <td>900</td>\n",
       "      <td>-0.543727</td>\n",
       "      <td>-16.256058</td>\n",
       "      <td>0.551379</td>\n",
       "      <td>102.224049</td>\n",
       "    </tr>\n",
       "    <tr>\n",
       "      <th>9</th>\n",
       "      <td>1000</td>\n",
       "      <td>-0.559803</td>\n",
       "      <td>-10.578346</td>\n",
       "      <td>0.528757</td>\n",
       "      <td>37.336627</td>\n",
       "    </tr>\n",
       "    <tr>\n",
       "      <th>10</th>\n",
       "      <td>1100</td>\n",
       "      <td>-0.536721</td>\n",
       "      <td>-12.335657</td>\n",
       "      <td>0.574661</td>\n",
       "      <td>56.958138</td>\n",
       "    </tr>\n",
       "    <tr>\n",
       "      <th>11</th>\n",
       "      <td>1200</td>\n",
       "      <td>-0.558554</td>\n",
       "      <td>-7.420132</td>\n",
       "      <td>0.871371</td>\n",
       "      <td>19.121989</td>\n",
       "    </tr>\n",
       "    <tr>\n",
       "      <th>12</th>\n",
       "      <td>1300</td>\n",
       "      <td>-0.493944</td>\n",
       "      <td>-12.323853</td>\n",
       "      <td>0.477842</td>\n",
       "      <td>61.734767</td>\n",
       "    </tr>\n",
       "    <tr>\n",
       "      <th>13</th>\n",
       "      <td>1400</td>\n",
       "      <td>-0.603569</td>\n",
       "      <td>-9.987076</td>\n",
       "      <td>0.685949</td>\n",
       "      <td>29.244150</td>\n",
       "    </tr>\n",
       "    <tr>\n",
       "      <th>14</th>\n",
       "      <td>1500</td>\n",
       "      <td>-0.661346</td>\n",
       "      <td>-10.001286</td>\n",
       "      <td>0.723594</td>\n",
       "      <td>26.359045</td>\n",
       "    </tr>\n",
       "    <tr>\n",
       "      <th>15</th>\n",
       "      <td>1600</td>\n",
       "      <td>-0.556017</td>\n",
       "      <td>-8.963373</td>\n",
       "      <td>0.534445</td>\n",
       "      <td>27.300161</td>\n",
       "    </tr>\n",
       "    <tr>\n",
       "      <th>16</th>\n",
       "      <td>1700</td>\n",
       "      <td>-0.580470</td>\n",
       "      <td>-9.969278</td>\n",
       "      <td>0.612455</td>\n",
       "      <td>32.681150</td>\n",
       "    </tr>\n",
       "    <tr>\n",
       "      <th>17</th>\n",
       "      <td>1800</td>\n",
       "      <td>-0.574145</td>\n",
       "      <td>-66.992200</td>\n",
       "      <td>0.723415</td>\n",
       "      <td>818.154803</td>\n",
       "    </tr>\n",
       "    <tr>\n",
       "      <th>18</th>\n",
       "      <td>1900</td>\n",
       "      <td>-0.651717</td>\n",
       "      <td>-8.762808</td>\n",
       "      <td>0.843309</td>\n",
       "      <td>24.389916</td>\n",
       "    </tr>\n",
       "    <tr>\n",
       "      <th>19</th>\n",
       "      <td>2000</td>\n",
       "      <td>-0.596023</td>\n",
       "      <td>-13.443063</td>\n",
       "      <td>0.709620</td>\n",
       "      <td>94.814082</td>\n",
       "    </tr>\n",
       "  </tbody>\n",
       "</table>\n",
       "</div>"
      ],
      "text/plain": [
       "    Theta  Mean of the maximum roots  Mean of the minimum roots  \\\n",
       "0     100                  -0.607296                 -22.280716   \n",
       "1     200                  -0.553903                 -24.721649   \n",
       "2     300                  -0.542707                  -9.863309   \n",
       "3     400                  -0.546407                 -11.552074   \n",
       "4     500                  -0.543700                 -26.689664   \n",
       "5     600                  -0.551984                  -7.650567   \n",
       "6     700                  -0.577472                  -7.960499   \n",
       "7     800                  -0.561054                 -11.784779   \n",
       "8     900                  -0.543727                 -16.256058   \n",
       "9    1000                  -0.559803                 -10.578346   \n",
       "10   1100                  -0.536721                 -12.335657   \n",
       "11   1200                  -0.558554                  -7.420132   \n",
       "12   1300                  -0.493944                 -12.323853   \n",
       "13   1400                  -0.603569                  -9.987076   \n",
       "14   1500                  -0.661346                 -10.001286   \n",
       "15   1600                  -0.556017                  -8.963373   \n",
       "16   1700                  -0.580470                  -9.969278   \n",
       "17   1800                  -0.574145                 -66.992200   \n",
       "18   1900                  -0.651717                  -8.762808   \n",
       "19   2000                  -0.596023                 -13.443063   \n",
       "\n",
       "    Std dev of the maximum roots  Std dev of the minimum roots  \n",
       "0                       0.578726                    124.788237  \n",
       "1                       0.537107                    211.099556  \n",
       "2                       0.590656                     24.716974  \n",
       "3                       0.601324                     50.587434  \n",
       "4                       0.624781                    158.854917  \n",
       "5                       0.581765                     32.178904  \n",
       "6                       0.520409                     17.319140  \n",
       "7                       0.594430                     60.016710  \n",
       "8                       0.551379                    102.224049  \n",
       "9                       0.528757                     37.336627  \n",
       "10                      0.574661                     56.958138  \n",
       "11                      0.871371                     19.121989  \n",
       "12                      0.477842                     61.734767  \n",
       "13                      0.685949                     29.244150  \n",
       "14                      0.723594                     26.359045  \n",
       "15                      0.534445                     27.300161  \n",
       "16                      0.612455                     32.681150  \n",
       "17                      0.723415                    818.154803  \n",
       "18                      0.843309                     24.389916  \n",
       "19                      0.709620                     94.814082  "
      ]
     },
     "execution_count": 29,
     "metadata": {},
     "output_type": "execute_result"
    }
   ],
   "source": [
    "df = pd.DataFrame(\n",
    "    data, columns=[\n",
    "        \"Theta\",\n",
    "        \"Mean of the maximum roots\",\n",
    "        \"Mean of the minimum roots\",\n",
    "        \"Std dev of the maximum roots\",\n",
    "        \"Std dev of the minimum roots\"\n",
    "    ]\n",
    ")\n",
    "df"
   ]
  },
  {
   "cell_type": "code",
   "execution_count": 30,
   "metadata": {},
   "outputs": [
    {
     "data": {
      "image/png": "[encoded data removed]",
      "text/plain": [
       "<Figure size 360x360 with 1 Axes>"
      ]
     },
     "metadata": {
      "needs_background": "light"
     },
     "output_type": "display_data"
    }
   ],
   "source": [
    "try:\n",
    "    sns.relplot(x=df[\"Theta\"],y=df[\"Mean of the maximum roots\"],data=df)\n",
    "except:\n",
    "    pass"
   ]
  },
  {
   "cell_type": "code",
   "execution_count": 31,
   "metadata": {},
   "outputs": [
    {
     "data": {
      "image/png": "[encoded data removed]",
      "text/plain": [
       "<Figure size 360x360 with 1 Axes>"
      ]
     },
     "metadata": {
      "needs_background": "light"
     },
     "output_type": "display_data"
    }
   ],
   "source": [
    "try:\n",
    "    sns.relplot(x=df[\"Theta\"],y=df[\"Mean of the minimum roots\"],data=df)\n",
    "except:\n",
    "    pass"
   ]
  },
  {
   "cell_type": "code",
   "execution_count": 32,
   "metadata": {},
   "outputs": [
    {
     "data": {
      "image/png": "[encoded data removed]",
      "text/plain": [
       "<Figure size 360x360 with 1 Axes>"
      ]
     },
     "metadata": {
      "needs_background": "light"
     },
     "output_type": "display_data"
    }
   ],
   "source": [
    "try:\n",
    "    sns.relplot(x=df[\"Theta\"],y=df[\"Std dev of the maximum roots\"],data=df)\n",
    "except:\n",
    "    pass"
   ]
  },
  {
   "cell_type": "code",
   "execution_count": 33,
   "metadata": {},
   "outputs": [
    {
     "data": {
      "image/png": "[encoded data removed]",
      "text/plain": [
       "<Figure size 360x360 with 1 Axes>"
      ]
     },
     "metadata": {
      "needs_background": "light"
     },
     "output_type": "display_data"
    }
   ],
   "source": [
    "try:\n",
    "    sns.relplot(x=df[\"Theta\"],y=df[\"Std dev of the minimum roots\"],data=df)\n",
    "except:\n",
    "    pass"
   ]
  },
  {
   "cell_type": "code",
   "execution_count": null,
   "metadata": {},
   "outputs": [],
   "source": []
  },
  {
   "cell_type": "code",
   "execution_count": null,
   "metadata": {},
   "outputs": [],
   "source": []
  }
 ],
 "metadata": {
  "kernelspec": {
   "display_name": "Python 3",
   "language": "python",
   "name": "python3"
  },
  "language_info": {
   "codemirror_mode": {
    "name": "ipython",
    "version": 3
   },
   "file_extension": ".py",
   "mimetype": "text/x-python",
   "name": "python",
   "nbconvert_exporter": "python",
   "pygments_lexer": "ipython3",
   "version": "3.8.4"
  }
 },
 "nbformat": 4,
 "nbformat_minor": 4
}
