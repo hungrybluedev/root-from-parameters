{
 "cells": [
  {
   "cell_type": "code",
   "execution_count": 1,
   "metadata": {},
   "outputs": [],
   "source": [
    "import math\n",
    "import pandas as pd\n",
    "import random\n",
    "import seaborn as sns\n",
    "import statistics as stats\n",
    "import warnings"
   ]
  },
  {
   "cell_type": "code",
   "execution_count": 2,
   "metadata": {},
   "outputs": [],
   "source": [
    "## Uncomment and run this cell to reset the state and get reproducible results\n",
    "# random.seed(a=\"seed dated: 2020-07-23\")"
   ]
  },
  {
   "cell_type": "code",
   "execution_count": 3,
   "metadata": {},
   "outputs": [],
   "source": [
    "# Code for configuration of global parameters\n",
    "# pd.options.display.max_columns = None\n",
    "warnings.simplefilter(action='ignore', category=FutureWarning)"
   ]
  },
  {
   "cell_type": "code",
   "execution_count": 4,
   "metadata": {},
   "outputs": [],
   "source": [
    "# The number of trials for each value of k\n",
    "trials = 250"
   ]
  },
  {
   "cell_type": "code",
   "execution_count": 5,
   "metadata": {},
   "outputs": [],
   "source": [
    "def min_max(a, b, c):\n",
    "    \"\"\"\n",
    "    Returns the maximum possible and the minimum possible root from\n",
    "    the given parameters. It returns None if no real roots exist.\n",
    "    \"\"\"\n",
    "    # We must have a quadratic equation\n",
    "    if a == 0:\n",
    "        return None\n",
    "    \n",
    "    dsquared = b * b - 4 * a * c\n",
    "    \n",
    "    # We only consider real roots\n",
    "    if dsquared < 0:\n",
    "        return None\n",
    "    \n",
    "    d = math.sqrt(dsquared)\n",
    "    twoa = 2 * a\n",
    "    minroot = (-b - d) / twoa\n",
    "    maxroot = (-b + d) / twoa\n",
    "    return (minroot, maxroot)"
   ]
  },
  {
   "cell_type": "code",
   "execution_count": 6,
   "metadata": {},
   "outputs": [],
   "source": [
    "def get_random_value(k):\n",
    "    \"\"\"\n",
    "    Return a random integer in the range [1, k].\n",
    "    (1 and k are inclusive.)\n",
    "    \"\"\"\n",
    "    return random.randrange(1, k+1)"
   ]
  },
  {
   "cell_type": "code",
   "execution_count": 7,
   "metadata": {},
   "outputs": [],
   "source": [
    "def get_row_of_data_for(k):\n",
    "    \"\"\"\n",
    "    Returns a row of data by performing an experiment for the given\n",
    "    value of k. The values returned are:\n",
    "    1. k\n",
    "    2. Mean of the maximum roots\n",
    "    3. Mean of the minimum roots\n",
    "    4. Std dev of the maximum roots\n",
    "    5. Std dev of the minimum roots\n",
    "    \"\"\"\n",
    "    max_roots = []\n",
    "    min_roots = []\n",
    "\n",
    "    for current_trial in range(trials):\n",
    "        # We loop until we get valid roots\n",
    "        roots = None\n",
    "        while roots is None:\n",
    "            a = get_random_value(k)\n",
    "            b = get_random_value(k)\n",
    "            c = get_random_value(k)\n",
    "\n",
    "            roots = min_max(a, b, c)\n",
    "\n",
    "        # unpack the data\n",
    "        minroot, maxroot = roots\n",
    "        max_roots.append(maxroot)\n",
    "        min_roots.append(minroot)\n",
    "    \n",
    "    return [\n",
    "        k,\n",
    "        stats.mean(max_roots), stats.mean(min_roots),\n",
    "        stats.stdev(max_roots), stats.stdev(min_roots)\n",
    "    ]"
   ]
  },
  {
   "cell_type": "code",
   "execution_count": 8,
   "metadata": {},
   "outputs": [],
   "source": [
    "data = [get_row_of_data_for(k) for k in range(100, 2001, 100)]"
   ]
  },
  {
   "cell_type": "code",
   "execution_count": 9,
   "metadata": {},
   "outputs": [
    {
     "data": {
      "text/html": [
       "<div>\n",
       "<style scoped>\n",
       "    .dataframe tbody tr th:only-of-type {\n",
       "        vertical-align: middle;\n",
       "    }\n",
       "\n",
       "    .dataframe tbody tr th {\n",
       "        vertical-align: top;\n",
       "    }\n",
       "\n",
       "    .dataframe thead th {\n",
       "        text-align: right;\n",
       "    }\n",
       "</style>\n",
       "<table border=\"1\" class=\"dataframe\">\n",
       "  <thead>\n",
       "    <tr style=\"text-align: right;\">\n",
       "      <th></th>\n",
       "      <th>k</th>\n",
       "      <th>Mean of the maximum roots</th>\n",
       "      <th>Mean of the minimum roots</th>\n",
       "      <th>Std dev of the maximum roots</th>\n",
       "      <th>Std dev of the minimum roots</th>\n",
       "    </tr>\n",
       "  </thead>\n",
       "  <tbody>\n",
       "    <tr>\n",
       "      <th>0</th>\n",
       "      <td>100</td>\n",
       "      <td>-0.534401</td>\n",
       "      <td>-6.011835</td>\n",
       "      <td>0.597342</td>\n",
       "      <td>11.399861</td>\n",
       "    </tr>\n",
       "    <tr>\n",
       "      <th>1</th>\n",
       "      <td>200</td>\n",
       "      <td>-0.500269</td>\n",
       "      <td>-7.660671</td>\n",
       "      <td>0.478825</td>\n",
       "      <td>19.391076</td>\n",
       "    </tr>\n",
       "    <tr>\n",
       "      <th>2</th>\n",
       "      <td>300</td>\n",
       "      <td>-0.649450</td>\n",
       "      <td>-8.079032</td>\n",
       "      <td>0.772106</td>\n",
       "      <td>15.192658</td>\n",
       "    </tr>\n",
       "    <tr>\n",
       "      <th>3</th>\n",
       "      <td>400</td>\n",
       "      <td>-0.518595</td>\n",
       "      <td>-9.448200</td>\n",
       "      <td>0.525458</td>\n",
       "      <td>21.360517</td>\n",
       "    </tr>\n",
       "    <tr>\n",
       "      <th>4</th>\n",
       "      <td>500</td>\n",
       "      <td>-0.532427</td>\n",
       "      <td>-10.931805</td>\n",
       "      <td>0.522977</td>\n",
       "      <td>27.211872</td>\n",
       "    </tr>\n",
       "    <tr>\n",
       "      <th>5</th>\n",
       "      <td>600</td>\n",
       "      <td>-0.562255</td>\n",
       "      <td>-9.368138</td>\n",
       "      <td>0.540007</td>\n",
       "      <td>29.117706</td>\n",
       "    </tr>\n",
       "    <tr>\n",
       "      <th>6</th>\n",
       "      <td>700</td>\n",
       "      <td>-0.626214</td>\n",
       "      <td>-13.288464</td>\n",
       "      <td>1.024465</td>\n",
       "      <td>56.238535</td>\n",
       "    </tr>\n",
       "    <tr>\n",
       "      <th>7</th>\n",
       "      <td>800</td>\n",
       "      <td>-0.557287</td>\n",
       "      <td>-7.570118</td>\n",
       "      <td>0.535645</td>\n",
       "      <td>23.848145</td>\n",
       "    </tr>\n",
       "    <tr>\n",
       "      <th>8</th>\n",
       "      <td>900</td>\n",
       "      <td>-0.588721</td>\n",
       "      <td>-9.783992</td>\n",
       "      <td>0.553441</td>\n",
       "      <td>39.378028</td>\n",
       "    </tr>\n",
       "    <tr>\n",
       "      <th>9</th>\n",
       "      <td>1000</td>\n",
       "      <td>-0.527589</td>\n",
       "      <td>-11.463461</td>\n",
       "      <td>0.532302</td>\n",
       "      <td>58.023522</td>\n",
       "    </tr>\n",
       "    <tr>\n",
       "      <th>10</th>\n",
       "      <td>1100</td>\n",
       "      <td>-0.548305</td>\n",
       "      <td>-12.421170</td>\n",
       "      <td>0.579577</td>\n",
       "      <td>41.842515</td>\n",
       "    </tr>\n",
       "    <tr>\n",
       "      <th>11</th>\n",
       "      <td>1200</td>\n",
       "      <td>-0.518400</td>\n",
       "      <td>-12.096432</td>\n",
       "      <td>0.509783</td>\n",
       "      <td>66.729126</td>\n",
       "    </tr>\n",
       "    <tr>\n",
       "      <th>12</th>\n",
       "      <td>1300</td>\n",
       "      <td>-0.562790</td>\n",
       "      <td>-10.918018</td>\n",
       "      <td>0.602076</td>\n",
       "      <td>32.646011</td>\n",
       "    </tr>\n",
       "    <tr>\n",
       "      <th>13</th>\n",
       "      <td>1400</td>\n",
       "      <td>-0.528161</td>\n",
       "      <td>-6.954023</td>\n",
       "      <td>0.576151</td>\n",
       "      <td>17.646260</td>\n",
       "    </tr>\n",
       "    <tr>\n",
       "      <th>14</th>\n",
       "      <td>1500</td>\n",
       "      <td>-0.591936</td>\n",
       "      <td>-8.065450</td>\n",
       "      <td>0.634963</td>\n",
       "      <td>24.667385</td>\n",
       "    </tr>\n",
       "    <tr>\n",
       "      <th>15</th>\n",
       "      <td>1600</td>\n",
       "      <td>-0.598730</td>\n",
       "      <td>-10.876864</td>\n",
       "      <td>0.659926</td>\n",
       "      <td>40.924570</td>\n",
       "    </tr>\n",
       "    <tr>\n",
       "      <th>16</th>\n",
       "      <td>1700</td>\n",
       "      <td>-0.598509</td>\n",
       "      <td>-11.397810</td>\n",
       "      <td>0.777258</td>\n",
       "      <td>47.340484</td>\n",
       "    </tr>\n",
       "    <tr>\n",
       "      <th>17</th>\n",
       "      <td>1800</td>\n",
       "      <td>-0.538021</td>\n",
       "      <td>-13.150135</td>\n",
       "      <td>0.573795</td>\n",
       "      <td>62.359917</td>\n",
       "    </tr>\n",
       "    <tr>\n",
       "      <th>18</th>\n",
       "      <td>1900</td>\n",
       "      <td>-0.551817</td>\n",
       "      <td>-8.575717</td>\n",
       "      <td>0.593318</td>\n",
       "      <td>20.051266</td>\n",
       "    </tr>\n",
       "    <tr>\n",
       "      <th>19</th>\n",
       "      <td>2000</td>\n",
       "      <td>-0.538427</td>\n",
       "      <td>-9.139561</td>\n",
       "      <td>0.580386</td>\n",
       "      <td>25.552003</td>\n",
       "    </tr>\n",
       "  </tbody>\n",
       "</table>\n",
       "</div>"
      ],
      "text/plain": [
       "       k  Mean of the maximum roots  Mean of the minimum roots  \\\n",
       "0    100                  -0.534401                  -6.011835   \n",
       "1    200                  -0.500269                  -7.660671   \n",
       "2    300                  -0.649450                  -8.079032   \n",
       "3    400                  -0.518595                  -9.448200   \n",
       "4    500                  -0.532427                 -10.931805   \n",
       "5    600                  -0.562255                  -9.368138   \n",
       "6    700                  -0.626214                 -13.288464   \n",
       "7    800                  -0.557287                  -7.570118   \n",
       "8    900                  -0.588721                  -9.783992   \n",
       "9   1000                  -0.527589                 -11.463461   \n",
       "10  1100                  -0.548305                 -12.421170   \n",
       "11  1200                  -0.518400                 -12.096432   \n",
       "12  1300                  -0.562790                 -10.918018   \n",
       "13  1400                  -0.528161                  -6.954023   \n",
       "14  1500                  -0.591936                  -8.065450   \n",
       "15  1600                  -0.598730                 -10.876864   \n",
       "16  1700                  -0.598509                 -11.397810   \n",
       "17  1800                  -0.538021                 -13.150135   \n",
       "18  1900                  -0.551817                  -8.575717   \n",
       "19  2000                  -0.538427                  -9.139561   \n",
       "\n",
       "    Std dev of the maximum roots  Std dev of the minimum roots  \n",
       "0                       0.597342                     11.399861  \n",
       "1                       0.478825                     19.391076  \n",
       "2                       0.772106                     15.192658  \n",
       "3                       0.525458                     21.360517  \n",
       "4                       0.522977                     27.211872  \n",
       "5                       0.540007                     29.117706  \n",
       "6                       1.024465                     56.238535  \n",
       "7                       0.535645                     23.848145  \n",
       "8                       0.553441                     39.378028  \n",
       "9                       0.532302                     58.023522  \n",
       "10                      0.579577                     41.842515  \n",
       "11                      0.509783                     66.729126  \n",
       "12                      0.602076                     32.646011  \n",
       "13                      0.576151                     17.646260  \n",
       "14                      0.634963                     24.667385  \n",
       "15                      0.659926                     40.924570  \n",
       "16                      0.777258                     47.340484  \n",
       "17                      0.573795                     62.359917  \n",
       "18                      0.593318                     20.051266  \n",
       "19                      0.580386                     25.552003  "
      ]
     },
     "execution_count": 9,
     "metadata": {},
     "output_type": "execute_result"
    }
   ],
   "source": [
    "df = pd.DataFrame(\n",
    "    data, columns=[\n",
    "        \"k\",\n",
    "        \"Mean of the maximum roots\",\n",
    "        \"Mean of the minimum roots\",\n",
    "        \"Std dev of the maximum roots\",\n",
    "        \"Std dev of the minimum roots\",\n",
    "    ]\n",
    ")\n",
    "df"
   ]
  },
  {
   "cell_type": "code",
   "execution_count": 10,
   "metadata": {},
   "outputs": [
    {
     "data": {
      "image/png": "[encoded data removed]",
      "text/plain": [
       "<Figure size 360x360 with 1 Axes>"
      ]
     },
     "metadata": {
      "needs_background": "light"
     },
     "output_type": "display_data"
    }
   ],
   "source": [
    "try:\n",
    "    sns.relplot(x=df[\"k\"],y=df[\"Mean of the maximum roots\"],data=df)\n",
    "except:\n",
    "    pass"
   ]
  },
  {
   "cell_type": "code",
   "execution_count": 11,
   "metadata": {},
   "outputs": [
    {
     "data": {
      "image/png": "[encoded data removed]",
      "text/plain": [
       "<Figure size 360x360 with 1 Axes>"
      ]
     },
     "metadata": {
      "needs_background": "light"
     },
     "output_type": "display_data"
    }
   ],
   "source": [
    "try:\n",
    "    sns.relplot(x=df[\"k\"],y=df[\"Mean of the minimum roots\"],data=df)\n",
    "except:\n",
    "    pass"
   ]
  },
  {
   "cell_type": "code",
   "execution_count": 12,
   "metadata": {},
   "outputs": [
    {
     "data": {
      "image/png": "[encoded data removed]",
      "text/plain": [
       "<Figure size 360x360 with 1 Axes>"
      ]
     },
     "metadata": {
      "needs_background": "light"
     },
     "output_type": "display_data"
    }
   ],
   "source": [
    "try:\n",
    "    sns.relplot(x=df[\"k\"],y=df[\"Std dev of the maximum roots\"],data=df)\n",
    "except:\n",
    "    pass"
   ]
  },
  {
   "cell_type": "code",
   "execution_count": 13,
   "metadata": {},
   "outputs": [
    {
     "data": {
      "image/png": "[encoded data removed]",
      "text/plain": [
       "<Figure size 360x360 with 1 Axes>"
      ]
     },
     "metadata": {
      "needs_background": "light"
     },
     "output_type": "display_data"
    }
   ],
   "source": [
    "try:\n",
    "    sns.relplot(x=df[\"k\"],y=df[\"Std dev of the minimum roots\"],data=df)\n",
    "except:\n",
    "    pass"
   ]
  },
  {
   "cell_type": "code",
   "execution_count": null,
   "metadata": {},
   "outputs": [],
   "source": []
  }
 ],
 "metadata": {
  "kernelspec": {
   "display_name": "Python 3",
   "language": "python",
   "name": "python3"
  },
  "language_info": {
   "codemirror_mode": {
    "name": "ipython",
    "version": 3
   },
   "file_extension": ".py",
   "mimetype": "text/x-python",
   "name": "python",
   "nbconvert_exporter": "python",
   "pygments_lexer": "ipython3",
   "version": "3.8.4"
  }
 },
 "nbformat": 4,
 "nbformat_minor": 4
}
