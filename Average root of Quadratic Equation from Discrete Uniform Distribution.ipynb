{
 "cells": [
  {
   "cell_type": "code",
   "execution_count": 1,
   "metadata": {},
   "outputs": [],
   "source": [
    "import math\n",
    "import pandas as pd\n",
    "import random\n",
    "import seaborn as sns\n",
    "import statistics as stats\n",
    "import warnings"
   ]
  },
  {
   "cell_type": "code",
   "execution_count": 2,
   "metadata": {},
   "outputs": [],
   "source": [
    "## Uncomment and run this cell to reset the state and get reproducible results\n",
    "# random.seed(a=\"seed dated: 2020-07-23\")"
   ]
  },
  {
   "cell_type": "code",
   "execution_count": 3,
   "metadata": {},
   "outputs": [],
   "source": [
    "# Code for configuration of global parameters\n",
    "# pd.options.display.max_columns = None\n",
    "warnings.simplefilter(action='ignore', category=FutureWarning)"
   ]
  },
  {
   "cell_type": "code",
   "execution_count": 4,
   "metadata": {},
   "outputs": [],
   "source": [
    "# The number of trials for each value of k\n",
    "trials = 250"
   ]
  },
  {
   "cell_type": "code",
   "execution_count": 5,
   "metadata": {},
   "outputs": [],
   "source": [
    "def min_max(a, b, c):\n",
    "    \"\"\"\n",
    "    Returns the maximum possible and the minimum possible root from\n",
    "    the given parameters. It returns None if no real roots exist.\n",
    "    \"\"\"\n",
    "    # We must have a quadratic equation\n",
    "    if a == 0:\n",
    "        return None\n",
    "    \n",
    "    dsquared = b * b - 4 * a * c\n",
    "    \n",
    "    # We only consider real roots\n",
    "    if dsquared < 0:\n",
    "        return None\n",
    "    \n",
    "    d = math.sqrt(dsquared)\n",
    "    twoa = 2 * a\n",
    "    minroot = (-b - d) / twoa\n",
    "    maxroot = (-b + d) / twoa\n",
    "    return (minroot, maxroot)"
   ]
  },
  {
   "cell_type": "code",
   "execution_count": 6,
   "metadata": {},
   "outputs": [],
   "source": [
    "def get_random_value(k):\n",
    "    \"\"\"\n",
    "    Return a random integer in the range [1, k].\n",
    "    (1 and k are inclusive.)\n",
    "    \"\"\"\n",
    "    return random.randrange(1, k+1)"
   ]
  },
  {
   "cell_type": "code",
   "execution_count": 7,
   "metadata": {},
   "outputs": [],
   "source": [
    "def get_row_of_data_for(k):\n",
    "    \"\"\"\n",
    "    Returns a row of data by performing an experiment for the given\n",
    "    value of k. The values returned are:\n",
    "    1. k\n",
    "    2. Mean of the maximum roots\n",
    "    3. Mean of the minimum roots\n",
    "    4. Std dev of the maximum roots\n",
    "    5. Std dev of the minimum roots\n",
    "    \"\"\"\n",
    "    max_roots = []\n",
    "    min_roots = []\n",
    "\n",
    "    for current_trial in range(trials):\n",
    "        # We loop until we get valid roots\n",
    "        roots = None\n",
    "        while roots is None:\n",
    "            a = get_random_value(k)\n",
    "            b = get_random_value(k)\n",
    "            c = get_random_value(k)\n",
    "\n",
    "            roots = min_max(a, b, c)\n",
    "\n",
    "        # unpack the data\n",
    "        minroot, maxroot = roots\n",
    "        max_roots.append(maxroot)\n",
    "        min_roots.append(minroot)\n",
    "    \n",
    "    return [\n",
    "        k,\n",
    "        stats.mean(max_roots), stats.mean(min_roots),\n",
    "        stats.stdev(max_roots), stats.stdev(min_roots)\n",
    "    ]"
   ]
  },
  {
   "cell_type": "code",
   "execution_count": 8,
   "metadata": {},
   "outputs": [],
   "source": [
    "data = [get_row_of_data_for(k) for k in range(10, 2001, 100)]"
   ]
  },
  {
   "cell_type": "code",
   "execution_count": 9,
   "metadata": {},
   "outputs": [
    {
     "data": {
      "text/html": [
       "<div>\n",
       "<style scoped>\n",
       "    .dataframe tbody tr th:only-of-type {\n",
       "        vertical-align: middle;\n",
       "    }\n",
       "\n",
       "    .dataframe tbody tr th {\n",
       "        vertical-align: top;\n",
       "    }\n",
       "\n",
       "    .dataframe thead th {\n",
       "        text-align: right;\n",
       "    }\n",
       "</style>\n",
       "<table border=\"1\" class=\"dataframe\">\n",
       "  <thead>\n",
       "    <tr style=\"text-align: right;\">\n",
       "      <th></th>\n",
       "      <th>k</th>\n",
       "      <th>Mean of the maximum roots</th>\n",
       "      <th>Mean of the minimum roots</th>\n",
       "      <th>Std dev of the maximum roots</th>\n",
       "      <th>Std dev of the minimum roots</th>\n",
       "    </tr>\n",
       "  </thead>\n",
       "  <tbody>\n",
       "    <tr>\n",
       "      <th>0</th>\n",
       "      <td>10</td>\n",
       "      <td>-0.592531</td>\n",
       "      <td>-3.144401</td>\n",
       "      <td>0.480314</td>\n",
       "      <td>2.493626</td>\n",
       "    </tr>\n",
       "    <tr>\n",
       "      <th>1</th>\n",
       "      <td>110</td>\n",
       "      <td>-0.570014</td>\n",
       "      <td>-8.577426</td>\n",
       "      <td>0.493726</td>\n",
       "      <td>16.027593</td>\n",
       "    </tr>\n",
       "    <tr>\n",
       "      <th>2</th>\n",
       "      <td>210</td>\n",
       "      <td>-0.516585</td>\n",
       "      <td>-8.589204</td>\n",
       "      <td>0.591499</td>\n",
       "      <td>19.728197</td>\n",
       "    </tr>\n",
       "    <tr>\n",
       "      <th>3</th>\n",
       "      <td>310</td>\n",
       "      <td>-0.642144</td>\n",
       "      <td>-8.661450</td>\n",
       "      <td>0.852987</td>\n",
       "      <td>20.933459</td>\n",
       "    </tr>\n",
       "    <tr>\n",
       "      <th>4</th>\n",
       "      <td>410</td>\n",
       "      <td>-0.545677</td>\n",
       "      <td>-11.088939</td>\n",
       "      <td>0.527488</td>\n",
       "      <td>38.651013</td>\n",
       "    </tr>\n",
       "    <tr>\n",
       "      <th>5</th>\n",
       "      <td>510</td>\n",
       "      <td>-0.537473</td>\n",
       "      <td>-11.861449</td>\n",
       "      <td>0.446285</td>\n",
       "      <td>40.559728</td>\n",
       "    </tr>\n",
       "    <tr>\n",
       "      <th>6</th>\n",
       "      <td>610</td>\n",
       "      <td>-0.551671</td>\n",
       "      <td>-8.823465</td>\n",
       "      <td>0.560654</td>\n",
       "      <td>25.089289</td>\n",
       "    </tr>\n",
       "    <tr>\n",
       "      <th>7</th>\n",
       "      <td>710</td>\n",
       "      <td>-0.615309</td>\n",
       "      <td>-12.661944</td>\n",
       "      <td>0.697619</td>\n",
       "      <td>50.766525</td>\n",
       "    </tr>\n",
       "    <tr>\n",
       "      <th>8</th>\n",
       "      <td>810</td>\n",
       "      <td>-0.612817</td>\n",
       "      <td>-9.351551</td>\n",
       "      <td>0.689597</td>\n",
       "      <td>27.220263</td>\n",
       "    </tr>\n",
       "    <tr>\n",
       "      <th>9</th>\n",
       "      <td>910</td>\n",
       "      <td>-0.602616</td>\n",
       "      <td>-8.385095</td>\n",
       "      <td>0.723907</td>\n",
       "      <td>19.165956</td>\n",
       "    </tr>\n",
       "    <tr>\n",
       "      <th>10</th>\n",
       "      <td>1010</td>\n",
       "      <td>-0.585381</td>\n",
       "      <td>-8.896146</td>\n",
       "      <td>0.683558</td>\n",
       "      <td>19.834968</td>\n",
       "    </tr>\n",
       "    <tr>\n",
       "      <th>11</th>\n",
       "      <td>1110</td>\n",
       "      <td>-0.555152</td>\n",
       "      <td>-12.487827</td>\n",
       "      <td>0.536281</td>\n",
       "      <td>40.130724</td>\n",
       "    </tr>\n",
       "    <tr>\n",
       "      <th>12</th>\n",
       "      <td>1210</td>\n",
       "      <td>-0.529652</td>\n",
       "      <td>-6.618583</td>\n",
       "      <td>0.542991</td>\n",
       "      <td>13.888292</td>\n",
       "    </tr>\n",
       "    <tr>\n",
       "      <th>13</th>\n",
       "      <td>1310</td>\n",
       "      <td>-0.546589</td>\n",
       "      <td>-20.592844</td>\n",
       "      <td>0.538277</td>\n",
       "      <td>89.544004</td>\n",
       "    </tr>\n",
       "    <tr>\n",
       "      <th>14</th>\n",
       "      <td>1410</td>\n",
       "      <td>-0.647596</td>\n",
       "      <td>-12.337721</td>\n",
       "      <td>0.785399</td>\n",
       "      <td>36.842514</td>\n",
       "    </tr>\n",
       "    <tr>\n",
       "      <th>15</th>\n",
       "      <td>1510</td>\n",
       "      <td>-0.610586</td>\n",
       "      <td>-8.615367</td>\n",
       "      <td>0.651374</td>\n",
       "      <td>20.772563</td>\n",
       "    </tr>\n",
       "    <tr>\n",
       "      <th>16</th>\n",
       "      <td>1610</td>\n",
       "      <td>-0.520318</td>\n",
       "      <td>-11.773887</td>\n",
       "      <td>0.533870</td>\n",
       "      <td>42.369446</td>\n",
       "    </tr>\n",
       "    <tr>\n",
       "      <th>17</th>\n",
       "      <td>1710</td>\n",
       "      <td>-0.535431</td>\n",
       "      <td>-12.499746</td>\n",
       "      <td>0.592878</td>\n",
       "      <td>58.197510</td>\n",
       "    </tr>\n",
       "    <tr>\n",
       "      <th>18</th>\n",
       "      <td>1810</td>\n",
       "      <td>-0.570121</td>\n",
       "      <td>-16.410781</td>\n",
       "      <td>0.576653</td>\n",
       "      <td>80.643368</td>\n",
       "    </tr>\n",
       "    <tr>\n",
       "      <th>19</th>\n",
       "      <td>1910</td>\n",
       "      <td>-0.595784</td>\n",
       "      <td>-19.378651</td>\n",
       "      <td>0.606294</td>\n",
       "      <td>77.585739</td>\n",
       "    </tr>\n",
       "  </tbody>\n",
       "</table>\n",
       "</div>"
      ],
      "text/plain": [
       "       k  Mean of the maximum roots  Mean of the minimum roots  \\\n",
       "0     10                  -0.592531                  -3.144401   \n",
       "1    110                  -0.570014                  -8.577426   \n",
       "2    210                  -0.516585                  -8.589204   \n",
       "3    310                  -0.642144                  -8.661450   \n",
       "4    410                  -0.545677                 -11.088939   \n",
       "5    510                  -0.537473                 -11.861449   \n",
       "6    610                  -0.551671                  -8.823465   \n",
       "7    710                  -0.615309                 -12.661944   \n",
       "8    810                  -0.612817                  -9.351551   \n",
       "9    910                  -0.602616                  -8.385095   \n",
       "10  1010                  -0.585381                  -8.896146   \n",
       "11  1110                  -0.555152                 -12.487827   \n",
       "12  1210                  -0.529652                  -6.618583   \n",
       "13  1310                  -0.546589                 -20.592844   \n",
       "14  1410                  -0.647596                 -12.337721   \n",
       "15  1510                  -0.610586                  -8.615367   \n",
       "16  1610                  -0.520318                 -11.773887   \n",
       "17  1710                  -0.535431                 -12.499746   \n",
       "18  1810                  -0.570121                 -16.410781   \n",
       "19  1910                  -0.595784                 -19.378651   \n",
       "\n",
       "    Std dev of the maximum roots  Std dev of the minimum roots  \n",
       "0                       0.480314                      2.493626  \n",
       "1                       0.493726                     16.027593  \n",
       "2                       0.591499                     19.728197  \n",
       "3                       0.852987                     20.933459  \n",
       "4                       0.527488                     38.651013  \n",
       "5                       0.446285                     40.559728  \n",
       "6                       0.560654                     25.089289  \n",
       "7                       0.697619                     50.766525  \n",
       "8                       0.689597                     27.220263  \n",
       "9                       0.723907                     19.165956  \n",
       "10                      0.683558                     19.834968  \n",
       "11                      0.536281                     40.130724  \n",
       "12                      0.542991                     13.888292  \n",
       "13                      0.538277                     89.544004  \n",
       "14                      0.785399                     36.842514  \n",
       "15                      0.651374                     20.772563  \n",
       "16                      0.533870                     42.369446  \n",
       "17                      0.592878                     58.197510  \n",
       "18                      0.576653                     80.643368  \n",
       "19                      0.606294                     77.585739  "
      ]
     },
     "execution_count": 9,
     "metadata": {},
     "output_type": "execute_result"
    }
   ],
   "source": [
    "df = pd.DataFrame(\n",
    "    data, columns=[\n",
    "        \"k\",\n",
    "        \"Mean of the maximum roots\",\n",
    "        \"Mean of the minimum roots\",\n",
    "        \"Std dev of the maximum roots\",\n",
    "        \"Std dev of the minimum roots\",\n",
    "    ]\n",
    ")\n",
    "df"
   ]
  },
  {
   "cell_type": "code",
   "execution_count": 10,
   "metadata": {},
   "outputs": [
    {
     "data": {
      "image/png": "[encoded data removed]",
      "text/plain": [
       "<Figure size 360x360 with 1 Axes>"
      ]
     },
     "metadata": {
      "needs_background": "light"
     },
     "output_type": "display_data"
    }
   ],
   "source": [
    "try:\n",
    "    sns.relplot(x=df[\"k\"],y=df[\"Mean of the maximum roots\"],data=df)\n",
    "except:\n",
    "    pass"
   ]
  },
  {
   "cell_type": "code",
   "execution_count": 11,
   "metadata": {},
   "outputs": [
    {
     "data": {
      "image/png": "[encoded data removed]",
      "text/plain": [
       "<Figure size 360x360 with 1 Axes>"
      ]
     },
     "metadata": {
      "needs_background": "light"
     },
     "output_type": "display_data"
    }
   ],
   "source": [
    "try:\n",
    "    sns.relplot(x=df[\"k\"],y=df[\"Mean of the minimum roots\"],data=df)\n",
    "except:\n",
    "    pass"
   ]
  },
  {
   "cell_type": "code",
   "execution_count": 12,
   "metadata": {},
   "outputs": [
    {
     "data": {
      "image/png": "[encoded data removed]",
      "text/plain": [
       "<Figure size 360x360 with 1 Axes>"
      ]
     },
     "metadata": {
      "needs_background": "light"
     },
     "output_type": "display_data"
    }
   ],
   "source": [
    "try:\n",
    "    sns.relplot(x=df[\"k\"],y=df[\"Std dev of the maximum roots\"],data=df)\n",
    "except:\n",
    "    pass"
   ]
  },
  {
   "cell_type": "code",
   "execution_count": 13,
   "metadata": {},
   "outputs": [
    {
     "data": {
      "image/png": "[encoded data removed]",
      "text/plain": [
       "<Figure size 360x360 with 1 Axes>"
      ]
     },
     "metadata": {
      "needs_background": "light"
     },
     "output_type": "display_data"
    }
   ],
   "source": [
    "try:\n",
    "    sns.relplot(x=df[\"k\"],y=df[\"Std dev of the minimum roots\"],data=df)\n",
    "except:\n",
    "    pass"
   ]
  },
  {
   "cell_type": "code",
   "execution_count": null,
   "metadata": {},
   "outputs": [],
   "source": []
  }
 ],
 "metadata": {
  "kernelspec": {
   "display_name": "Python 3",
   "language": "python",
   "name": "python3"
  },
  "language_info": {
   "codemirror_mode": {
    "name": "ipython",
    "version": 3
   },
   "file_extension": ".py",
   "mimetype": "text/x-python",
   "name": "python",
   "nbconvert_exporter": "python",
   "pygments_lexer": "ipython3",
   "version": "3.8.4"
  }
 },
 "nbformat": 4,
 "nbformat_minor": 4
}
